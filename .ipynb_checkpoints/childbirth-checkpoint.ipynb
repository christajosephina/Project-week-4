{
 "cells": [
  {
   "cell_type": "code",
   "execution_count": 63,
   "id": "654b5309",
   "metadata": {},
   "outputs": [],
   "source": [
    "import pandas as pd"
   ]
  },
  {
   "cell_type": "markdown",
   "id": "de76cf54",
   "metadata": {},
   "source": [
    "# How many kids do women have?"
   ]
  },
  {
   "cell_type": "markdown",
   "id": "fc2ab70e",
   "metadata": {},
   "source": [
    "This csv goes up until 1980, because we don't know it yet for younger women. Because of this, in the end, this was not relevant to the rest of the charts.\n",
    "  "
   ]
  },
  {
   "cell_type": "code",
   "execution_count": 64,
   "id": "32f02591",
   "metadata": {},
   "outputs": [],
   "source": [
    "df_amount=pd.read_csv(\"Aantal kinderen per vrouw (%).csv\", sep=';', decimal=',')"
   ]
  },
  {
   "cell_type": "code",
   "execution_count": 100,
   "id": "11818145",
   "metadata": {},
   "outputs": [],
   "source": [
    "#df_amount.tail(5)"
   ]
  },
  {
   "cell_type": "code",
   "execution_count": 66,
   "id": "20b9126a",
   "metadata": {},
   "outputs": [],
   "source": [
    "#it needs some changes to make it readable.\n",
    "df_amount['year']=df_amount.Jaar"
   ]
  },
  {
   "cell_type": "code",
   "execution_count": 67,
   "id": "64555d77",
   "metadata": {},
   "outputs": [],
   "source": [
    "df_amount['zero'] = df_amount['Geen kinderen']"
   ]
  },
  {
   "cell_type": "code",
   "execution_count": 68,
   "id": "56e3225c",
   "metadata": {},
   "outputs": [],
   "source": [
    "df_amount['one'] = df_amount['1 kind']"
   ]
  },
  {
   "cell_type": "code",
   "execution_count": 69,
   "id": "bb703a46",
   "metadata": {},
   "outputs": [],
   "source": [
    "df_amount['two'] = df_amount['2 kinderen']"
   ]
  },
  {
   "cell_type": "code",
   "execution_count": 70,
   "id": "13a290e7",
   "metadata": {},
   "outputs": [],
   "source": [
    "df_amount['more'] = df_amount['3 of meer kinderen']"
   ]
  },
  {
   "cell_type": "code",
   "execution_count": 71,
   "id": "6aa66cb1",
   "metadata": {},
   "outputs": [],
   "source": [
    "df_amount = df_amount.drop(columns=['Jaar', 'Geen kinderen', '1 kind', '2 kinderen', '3 of meer kinderen'])"
   ]
  },
  {
   "cell_type": "code",
   "execution_count": 101,
   "id": "d41dceae",
   "metadata": {},
   "outputs": [
    {
     "data": {
      "text/html": [
       "<div>\n",
       "<style scoped>\n",
       "    .dataframe tbody tr th:only-of-type {\n",
       "        vertical-align: middle;\n",
       "    }\n",
       "\n",
       "    .dataframe tbody tr th {\n",
       "        vertical-align: top;\n",
       "    }\n",
       "\n",
       "    .dataframe thead th {\n",
       "        text-align: right;\n",
       "    }\n",
       "</style>\n",
       "<table border=\"1\" class=\"dataframe\">\n",
       "  <thead>\n",
       "    <tr style=\"text-align: right;\">\n",
       "      <th></th>\n",
       "      <th>year</th>\n",
       "      <th>zero</th>\n",
       "      <th>one</th>\n",
       "      <th>two</th>\n",
       "      <th>more</th>\n",
       "    </tr>\n",
       "  </thead>\n",
       "  <tbody>\n",
       "    <tr>\n",
       "      <th>0</th>\n",
       "      <td>1935</td>\n",
       "      <td>11.7</td>\n",
       "      <td>10.2</td>\n",
       "      <td>32.5</td>\n",
       "      <td>45.6</td>\n",
       "    </tr>\n",
       "    <tr>\n",
       "      <th>1</th>\n",
       "      <td>1936</td>\n",
       "      <td>11.9</td>\n",
       "      <td>10.0</td>\n",
       "      <td>34.6</td>\n",
       "      <td>43.4</td>\n",
       "    </tr>\n",
       "    <tr>\n",
       "      <th>2</th>\n",
       "      <td>1937</td>\n",
       "      <td>10.2</td>\n",
       "      <td>10.9</td>\n",
       "      <td>36.5</td>\n",
       "      <td>42.4</td>\n",
       "    </tr>\n",
       "    <tr>\n",
       "      <th>3</th>\n",
       "      <td>1938</td>\n",
       "      <td>12.1</td>\n",
       "      <td>10.1</td>\n",
       "      <td>37.7</td>\n",
       "      <td>40.0</td>\n",
       "    </tr>\n",
       "    <tr>\n",
       "      <th>4</th>\n",
       "      <td>1939</td>\n",
       "      <td>11.6</td>\n",
       "      <td>10.3</td>\n",
       "      <td>40.1</td>\n",
       "      <td>38.0</td>\n",
       "    </tr>\n",
       "  </tbody>\n",
       "</table>\n",
       "</div>"
      ],
      "text/plain": [
       "   year  zero   one   two  more\n",
       "0  1935  11.7  10.2  32.5  45.6\n",
       "1  1936  11.9  10.0  34.6  43.4\n",
       "2  1937  10.2  10.9  36.5  42.4\n",
       "3  1938  12.1  10.1  37.7  40.0\n",
       "4  1939  11.6  10.3  40.1  38.0"
      ]
     },
     "execution_count": 101,
     "metadata": {},
     "output_type": "execute_result"
    }
   ],
   "source": [
    "df_amount.head(5)"
   ]
  },
  {
   "cell_type": "code",
   "execution_count": 98,
   "id": "5339d5f1",
   "metadata": {},
   "outputs": [],
   "source": [
    "#df_amount.shape"
   ]
  },
  {
   "cell_type": "code",
   "execution_count": 99,
   "id": "2e868e9c",
   "metadata": {},
   "outputs": [],
   "source": [
    "#df_amount.dtypes"
   ]
  },
  {
   "cell_type": "code",
   "execution_count": 96,
   "id": "26c4e240",
   "metadata": {},
   "outputs": [
    {
     "data": {
      "image/png": "[encoded data removed]",
      "text/plain": [
       "<Figure size 432x288 with 1 Axes>"
      ]
     },
     "metadata": {
      "needs_background": "light"
     },
     "output_type": "display_data"
    }
   ],
   "source": [
    "#graph it and add some annotations (search for matplotlib annotations on google)\n",
    "import matplotlib.pyplot as plt\n",
    "ax = plt.gca()\n",
    "\n",
    "df_amount.plot(kind='line',x='year',y=[\"zero\", \"one\", \"two\", \"more\"],ax=ax)\n",
    "plt.annotate(text='End of WW2', xy=(1945,23), xytext=(1950, 30),arrowprops=dict(arrowstyle='->', linewidth=2))\n",
    "plt.annotate(text='End of WW2', xy=(1945,50), xytext=(1950, 30),arrowprops=dict(arrowstyle='->', linewidth=2))\n",
    "plt.annotate(text='Introduction of the pill', xy=(1964,23), xytext=(1960, 10),arrowprops=dict(arrowstyle='->', linewidth=2))\n",
    "plt.show()"
   ]
  },
  {
   "cell_type": "markdown",
   "id": "07f3cecd",
   "metadata": {},
   "source": [
    "# What is the average age of a mother at childbirth?"
   ]
  },
  {
   "cell_type": "code",
   "execution_count": 102,
   "id": "3fa946ea",
   "metadata": {},
   "outputs": [],
   "source": [
    "df_age=pd.read_csv(\"Gemiddelde leeftijd van de moeder (jaar).csv\", sep=';', decimal=',')"
   ]
  },
  {
   "cell_type": "code",
   "execution_count": 103,
   "id": "574bb6eb",
   "metadata": {},
   "outputs": [],
   "source": [
    "df_age['year']=df_age.Jaar"
   ]
  },
  {
   "cell_type": "code",
   "execution_count": 104,
   "id": "418cd288",
   "metadata": {},
   "outputs": [],
   "source": [
    "df_age['all']=df_age['Bij alle kinderen']"
   ]
  },
  {
   "cell_type": "code",
   "execution_count": 105,
   "id": "74c86ecb",
   "metadata": {},
   "outputs": [],
   "source": [
    "df_age['first']=df_age['Bij eerste kind']"
   ]
  },
  {
   "cell_type": "code",
   "execution_count": 106,
   "id": "1c0ae52c",
   "metadata": {},
   "outputs": [],
   "source": [
    "df_age['second']=df_age['Bij tweede kind']"
   ]
  },
  {
   "cell_type": "code",
   "execution_count": 107,
   "id": "57d01dfc",
   "metadata": {},
   "outputs": [],
   "source": [
    "df_age=df_age.drop(columns=['Jaar', 'Bij alle kinderen', 'Bij eerste kind', 'Bij tweede kind'])"
   ]
  },
  {
   "cell_type": "code",
   "execution_count": 108,
   "id": "67a342cc",
   "metadata": {},
   "outputs": [
    {
     "data": {
      "text/html": [
       "<div>\n",
       "<style scoped>\n",
       "    .dataframe tbody tr th:only-of-type {\n",
       "        vertical-align: middle;\n",
       "    }\n",
       "\n",
       "    .dataframe tbody tr th {\n",
       "        vertical-align: top;\n",
       "    }\n",
       "\n",
       "    .dataframe thead th {\n",
       "        text-align: right;\n",
       "    }\n",
       "</style>\n",
       "<table border=\"1\" class=\"dataframe\">\n",
       "  <thead>\n",
       "    <tr style=\"text-align: right;\">\n",
       "      <th></th>\n",
       "      <th>year</th>\n",
       "      <th>all</th>\n",
       "      <th>first</th>\n",
       "      <th>second</th>\n",
       "    </tr>\n",
       "  </thead>\n",
       "  <tbody>\n",
       "    <tr>\n",
       "      <th>65</th>\n",
       "      <td>2015</td>\n",
       "      <td>31.1</td>\n",
       "      <td>29.6</td>\n",
       "      <td>31.8</td>\n",
       "    </tr>\n",
       "    <tr>\n",
       "      <th>66</th>\n",
       "      <td>2016</td>\n",
       "      <td>31.2</td>\n",
       "      <td>29.7</td>\n",
       "      <td>31.8</td>\n",
       "    </tr>\n",
       "    <tr>\n",
       "      <th>67</th>\n",
       "      <td>2017</td>\n",
       "      <td>31.3</td>\n",
       "      <td>29.8</td>\n",
       "      <td>31.9</td>\n",
       "    </tr>\n",
       "    <tr>\n",
       "      <th>68</th>\n",
       "      <td>2018</td>\n",
       "      <td>31.4</td>\n",
       "      <td>29.9</td>\n",
       "      <td>31.9</td>\n",
       "    </tr>\n",
       "    <tr>\n",
       "      <th>69</th>\n",
       "      <td>2019</td>\n",
       "      <td>31.5</td>\n",
       "      <td>30.0</td>\n",
       "      <td>32.1</td>\n",
       "    </tr>\n",
       "  </tbody>\n",
       "</table>\n",
       "</div>"
      ],
      "text/plain": [
       "    year   all  first  second\n",
       "65  2015  31.1   29.6    31.8\n",
       "66  2016  31.2   29.7    31.8\n",
       "67  2017  31.3   29.8    31.9\n",
       "68  2018  31.4   29.9    31.9\n",
       "69  2019  31.5   30.0    32.1"
      ]
     },
     "execution_count": 108,
     "metadata": {},
     "output_type": "execute_result"
    }
   ],
   "source": [
    "df_age.tail(5)"
   ]
  },
  {
   "cell_type": "code",
   "execution_count": 109,
   "id": "d350b605",
   "metadata": {},
   "outputs": [],
   "source": [
    "#df_amount.shape"
   ]
  },
  {
   "cell_type": "code",
   "execution_count": 110,
   "id": "cab9cfc8",
   "metadata": {},
   "outputs": [],
   "source": [
    "#df_age.dtypes"
   ]
  },
  {
   "cell_type": "code",
   "execution_count": 22,
   "id": "8766339b",
   "metadata": {},
   "outputs": [],
   "source": [
    "#graph the amount of kids over time and average age and add annotations "
   ]
  },
  {
   "cell_type": "code",
   "execution_count": 123,
   "id": "f96da031",
   "metadata": {},
   "outputs": [
    {
     "data": {
      "image/png": "[encoded data removed]",
      "text/plain": [
       "<Figure size 432x288 with 1 Axes>"
      ]
     },
     "metadata": {
      "needs_background": "light"
     },
     "output_type": "display_data"
    }
   ],
   "source": [
    "ax = plt.gca()\n",
    "\n",
    "df_age.plot(kind='line',x='year',y=[\"all\", \"first\", \"second\"],ax=ax)\n",
    "plt.annotate(text='Introduction of the pill', xy=(1964,24), xytext=(1951.6, 32),arrowprops=dict(arrowstyle='-', linewidth=2))\n",
    "\n",
    "plt.show()"
   ]
  },
  {
   "cell_type": "markdown",
   "id": "e94ea04c",
   "metadata": {},
   "source": [
    "# What is the average number of children per Dutch woman?"
   ]
  },
  {
   "cell_type": "code",
   "execution_count": 158,
   "id": "5aba1dc8",
   "metadata": {},
   "outputs": [],
   "source": [
    "#add another csv\n",
    "df_babies=pd.read_csv(\"Gezondheid__leefstijl__zorggebruik_en__aanbod__doodsoorzaken__vanaf_1900_02072021_164526.csv\", sep=';')"
   ]
  },
  {
   "cell_type": "code",
   "execution_count": 159,
   "id": "fd8cb840",
   "metadata": {},
   "outputs": [],
   "source": [
    "df_babies=df_babies.transpose()"
   ]
  },
  {
   "cell_type": "code",
   "execution_count": 160,
   "id": "c0638c36",
   "metadata": {},
   "outputs": [],
   "source": [
    "df_babies['People']=(df_babies[0] * 1000)"
   ]
  },
  {
   "cell_type": "code",
   "execution_count": 161,
   "id": "779dad10",
   "metadata": {},
   "outputs": [],
   "source": [
    "df_babies['baby']=(df_babies[1] * 1000)"
   ]
  },
  {
   "cell_type": "code",
   "execution_count": 162,
   "id": "42dfc9cb",
   "metadata": {},
   "outputs": [],
   "source": [
    "df_babies=df_babies.drop(columns=[0,1])"
   ]
  },
  {
   "cell_type": "code",
   "execution_count": 163,
   "id": "caae8f95",
   "metadata": {},
   "outputs": [],
   "source": [
    "df_babies=df_babies.drop(['Jaar'])"
   ]
  },
  {
   "cell_type": "code",
   "execution_count": 164,
   "id": "ce4eb79e",
   "metadata": {},
   "outputs": [
    {
     "data": {
      "text/html": [
       "<div>\n",
       "<style scoped>\n",
       "    .dataframe tbody tr th:only-of-type {\n",
       "        vertical-align: middle;\n",
       "    }\n",
       "\n",
       "    .dataframe tbody tr th {\n",
       "        vertical-align: top;\n",
       "    }\n",
       "\n",
       "    .dataframe thead th {\n",
       "        text-align: right;\n",
       "    }\n",
       "</style>\n",
       "<table border=\"1\" class=\"dataframe\">\n",
       "  <thead>\n",
       "    <tr style=\"text-align: right;\">\n",
       "      <th></th>\n",
       "      <th>People</th>\n",
       "      <th>baby</th>\n",
       "    </tr>\n",
       "  </thead>\n",
       "  <tbody>\n",
       "    <tr>\n",
       "      <th>1900</th>\n",
       "      <td>5104000</td>\n",
       "      <td>163000</td>\n",
       "    </tr>\n",
       "    <tr>\n",
       "      <th>1901</th>\n",
       "      <td>5163000</td>\n",
       "      <td>168000</td>\n",
       "    </tr>\n",
       "    <tr>\n",
       "      <th>1902</th>\n",
       "      <td>5233000</td>\n",
       "      <td>169000</td>\n",
       "    </tr>\n",
       "    <tr>\n",
       "      <th>1903</th>\n",
       "      <td>5307000</td>\n",
       "      <td>170000</td>\n",
       "    </tr>\n",
       "    <tr>\n",
       "      <th>1904</th>\n",
       "      <td>5384000</td>\n",
       "      <td>171000</td>\n",
       "    </tr>\n",
       "  </tbody>\n",
       "</table>\n",
       "</div>"
      ],
      "text/plain": [
       "       People    baby\n",
       "1900  5104000  163000\n",
       "1901  5163000  168000\n",
       "1902  5233000  169000\n",
       "1903  5307000  170000\n",
       "1904  5384000  171000"
      ]
     },
     "execution_count": 164,
     "metadata": {},
     "output_type": "execute_result"
    }
   ],
   "source": [
    "df_babies.head(5)"
   ]
  },
  {
   "cell_type": "markdown",
   "id": "17443726",
   "metadata": {},
   "source": [
    "But we don't have the women, just 'people'. Let's add another csv...."
   ]
  },
  {
   "cell_type": "code",
   "execution_count": 165,
   "id": "8b75ecdf",
   "metadata": {},
   "outputs": [],
   "source": [
    "df_women=pd.read_csv('Bevolking__kerncijfers_06072021_183801.csv', sep=';')"
   ]
  },
  {
   "cell_type": "code",
   "execution_count": 166,
   "id": "b35f5bb7",
   "metadata": {},
   "outputs": [],
   "source": [
    "df_women=df_women.transpose()"
   ]
  },
  {
   "cell_type": "code",
   "execution_count": 167,
   "id": "51e04a6a",
   "metadata": {},
   "outputs": [],
   "source": [
    "df_women=df_women.drop(['Year'])"
   ]
  },
  {
   "cell_type": "code",
   "execution_count": 168,
   "id": "8c13aa51",
   "metadata": {},
   "outputs": [],
   "source": [
    "df_women['Women']=df_women[0]\n",
    "df_women=df_women.drop(columns=[0])"
   ]
  },
  {
   "cell_type": "code",
   "execution_count": 169,
   "id": "c06d569a",
   "metadata": {},
   "outputs": [
    {
     "data": {
      "text/html": [
       "<div>\n",
       "<style scoped>\n",
       "    .dataframe tbody tr th:only-of-type {\n",
       "        vertical-align: middle;\n",
       "    }\n",
       "\n",
       "    .dataframe tbody tr th {\n",
       "        vertical-align: top;\n",
       "    }\n",
       "\n",
       "    .dataframe thead th {\n",
       "        text-align: right;\n",
       "    }\n",
       "</style>\n",
       "<table border=\"1\" class=\"dataframe\">\n",
       "  <thead>\n",
       "    <tr style=\"text-align: right;\">\n",
       "      <th></th>\n",
       "      <th>Women</th>\n",
       "    </tr>\n",
       "  </thead>\n",
       "  <tbody>\n",
       "    <tr>\n",
       "      <th>1950</th>\n",
       "      <td>5028522</td>\n",
       "    </tr>\n",
       "    <tr>\n",
       "      <th>1951</th>\n",
       "      <td>5116521</td>\n",
       "    </tr>\n",
       "    <tr>\n",
       "      <th>1952</th>\n",
       "      <td>5182571</td>\n",
       "    </tr>\n",
       "    <tr>\n",
       "      <th>1953</th>\n",
       "      <td>5237598</td>\n",
       "    </tr>\n",
       "    <tr>\n",
       "      <th>1954</th>\n",
       "      <td>5294629</td>\n",
       "    </tr>\n",
       "    <tr>\n",
       "      <th>...</th>\n",
       "      <td>...</td>\n",
       "    </tr>\n",
       "    <tr>\n",
       "      <th>2016</th>\n",
       "      <td>8561985</td>\n",
       "    </tr>\n",
       "    <tr>\n",
       "      <th>2017</th>\n",
       "      <td>8606405</td>\n",
       "    </tr>\n",
       "    <tr>\n",
       "      <th>2018</th>\n",
       "      <td>8654043</td>\n",
       "    </tr>\n",
       "    <tr>\n",
       "      <th>2019</th>\n",
       "      <td>8701077</td>\n",
       "    </tr>\n",
       "    <tr>\n",
       "      <th>2020</th>\n",
       "      <td>8759554</td>\n",
       "    </tr>\n",
       "  </tbody>\n",
       "</table>\n",
       "<p>71 rows × 1 columns</p>\n",
       "</div>"
      ],
      "text/plain": [
       "        Women\n",
       "1950  5028522\n",
       "1951  5116521\n",
       "1952  5182571\n",
       "1953  5237598\n",
       "1954  5294629\n",
       "...       ...\n",
       "2016  8561985\n",
       "2017  8606405\n",
       "2018  8654043\n",
       "2019  8701077\n",
       "2020  8759554\n",
       "\n",
       "[71 rows x 1 columns]"
      ]
     },
     "execution_count": 169,
     "metadata": {},
     "output_type": "execute_result"
    }
   ],
   "source": [
    "df_women"
   ]
  },
  {
   "cell_type": "code",
   "execution_count": 170,
   "id": "8b457247",
   "metadata": {},
   "outputs": [],
   "source": [
    "df_babies['newbornshare']=(df_babies['baby']*100/df_women['Women'])"
   ]
  },
  {
   "cell_type": "code",
   "execution_count": 171,
   "id": "99cd3f73",
   "metadata": {},
   "outputs": [
    {
     "data": {
      "text/html": [
       "<div>\n",
       "<style scoped>\n",
       "    .dataframe tbody tr th:only-of-type {\n",
       "        vertical-align: middle;\n",
       "    }\n",
       "\n",
       "    .dataframe tbody tr th {\n",
       "        vertical-align: top;\n",
       "    }\n",
       "\n",
       "    .dataframe thead th {\n",
       "        text-align: right;\n",
       "    }\n",
       "</style>\n",
       "<table border=\"1\" class=\"dataframe\">\n",
       "  <thead>\n",
       "    <tr style=\"text-align: right;\">\n",
       "      <th></th>\n",
       "      <th>People</th>\n",
       "      <th>baby</th>\n",
       "      <th>newbornshare</th>\n",
       "    </tr>\n",
       "  </thead>\n",
       "  <tbody>\n",
       "    <tr>\n",
       "      <th>1900</th>\n",
       "      <td>5104000</td>\n",
       "      <td>163000</td>\n",
       "      <td>NaN</td>\n",
       "    </tr>\n",
       "    <tr>\n",
       "      <th>1901</th>\n",
       "      <td>5163000</td>\n",
       "      <td>168000</td>\n",
       "      <td>NaN</td>\n",
       "    </tr>\n",
       "    <tr>\n",
       "      <th>1902</th>\n",
       "      <td>5233000</td>\n",
       "      <td>169000</td>\n",
       "      <td>NaN</td>\n",
       "    </tr>\n",
       "    <tr>\n",
       "      <th>1903</th>\n",
       "      <td>5307000</td>\n",
       "      <td>170000</td>\n",
       "      <td>NaN</td>\n",
       "    </tr>\n",
       "    <tr>\n",
       "      <th>1904</th>\n",
       "      <td>5384000</td>\n",
       "      <td>171000</td>\n",
       "      <td>NaN</td>\n",
       "    </tr>\n",
       "    <tr>\n",
       "      <th>...</th>\n",
       "      <td>...</td>\n",
       "      <td>...</td>\n",
       "      <td>...</td>\n",
       "    </tr>\n",
       "    <tr>\n",
       "      <th>2015</th>\n",
       "      <td>16901000</td>\n",
       "      <td>171000</td>\n",
       "      <td>2.005191</td>\n",
       "    </tr>\n",
       "    <tr>\n",
       "      <th>2016</th>\n",
       "      <td>16979000</td>\n",
       "      <td>173000</td>\n",
       "      <td>2.020559</td>\n",
       "    </tr>\n",
       "    <tr>\n",
       "      <th>2017</th>\n",
       "      <td>17082000</td>\n",
       "      <td>170000</td>\n",
       "      <td>1.975273</td>\n",
       "    </tr>\n",
       "    <tr>\n",
       "      <th>2018</th>\n",
       "      <td>17181000</td>\n",
       "      <td>169000</td>\n",
       "      <td>1.952844</td>\n",
       "    </tr>\n",
       "    <tr>\n",
       "      <th>2019</th>\n",
       "      <td>17282000</td>\n",
       "      <td>170000</td>\n",
       "      <td>1.953781</td>\n",
       "    </tr>\n",
       "  </tbody>\n",
       "</table>\n",
       "<p>120 rows × 3 columns</p>\n",
       "</div>"
      ],
      "text/plain": [
       "        People    baby newbornshare\n",
       "1900   5104000  163000          NaN\n",
       "1901   5163000  168000          NaN\n",
       "1902   5233000  169000          NaN\n",
       "1903   5307000  170000          NaN\n",
       "1904   5384000  171000          NaN\n",
       "...        ...     ...          ...\n",
       "2015  16901000  171000     2.005191\n",
       "2016  16979000  173000     2.020559\n",
       "2017  17082000  170000     1.975273\n",
       "2018  17181000  169000     1.952844\n",
       "2019  17282000  170000     1.953781\n",
       "\n",
       "[120 rows x 3 columns]"
      ]
     },
     "execution_count": 171,
     "metadata": {},
     "output_type": "execute_result"
    }
   ],
   "source": []
  },
  {
   "cell_type": "code",
   "execution_count": null,
   "id": "594857bd",
   "metadata": {},
   "outputs": [],
   "source": []
  },
  {
   "cell_type": "markdown",
   "id": "e95966f5",
   "metadata": {},
   "source": [
    "# Time for the next step, merging some data!"
   ]
  },
  {
   "cell_type": "markdown",
   "id": "a85b75bb",
   "metadata": {},
   "source": [
    "Questions:\n"
   ]
  },
  {
   "cell_type": "markdown",
   "id": "58023fe5",
   "metadata": {},
   "source": [
    "Do women get more babies older or younger (scatterplot)? Let's see if there's a trend."
   ]
  },
  {
   "cell_type": "markdown",
   "id": "ff1c71af",
   "metadata": {},
   "source": [
    "Has the workforce got anything to do with pregnancies?"
   ]
  }
 ],
 "metadata": {
  "kernelspec": {
   "display_name": "Python 3",
   "language": "python",
   "name": "python3"
  },
  "language_info": {
   "codemirror_mode": {
    "name": "ipython",
    "version": 3
   },
   "file_extension": ".py",
   "mimetype": "text/x-python",
   "name": "python",
   "nbconvert_exporter": "python",
   "pygments_lexer": "ipython3",
   "version": "3.8.10"
  }
 },
 "nbformat": 4,
 "nbformat_minor": 5
}
