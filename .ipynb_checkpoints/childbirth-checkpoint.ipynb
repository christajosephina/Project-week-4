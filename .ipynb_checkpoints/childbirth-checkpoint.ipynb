{
 "cells": [
  {
   "cell_type": "code",
   "execution_count": 22,
   "id": "654b5309",
   "metadata": {},
   "outputs": [],
   "source": [
    "import pandas as pd"
   ]
  },
  {
   "cell_type": "code",
   "execution_count": 23,
   "id": "32f02591",
   "metadata": {},
   "outputs": [],
   "source": [
    "df_amount=pd.read_csv(\"Aantal kinderen per vrouw (%).csv\", sep=';')"
   ]
  },
  {
   "cell_type": "code",
   "execution_count": 24,
   "id": "11818145",
   "metadata": {},
   "outputs": [
    {
     "data": {
      "text/html": [
       "<div>\n",
       "<style scoped>\n",
       "    .dataframe tbody tr th:only-of-type {\n",
       "        vertical-align: middle;\n",
       "    }\n",
       "\n",
       "    .dataframe tbody tr th {\n",
       "        vertical-align: top;\n",
       "    }\n",
       "\n",
       "    .dataframe thead th {\n",
       "        text-align: right;\n",
       "    }\n",
       "</style>\n",
       "<table border=\"1\" class=\"dataframe\">\n",
       "  <thead>\n",
       "    <tr style=\"text-align: right;\">\n",
       "      <th></th>\n",
       "      <th>Jaar</th>\n",
       "      <th>Geen kinderen</th>\n",
       "      <th>1 kind</th>\n",
       "      <th>2 kinderen</th>\n",
       "      <th>3 of meer kinderen</th>\n",
       "    </tr>\n",
       "  </thead>\n",
       "  <tbody>\n",
       "    <tr>\n",
       "      <th>0</th>\n",
       "      <td>1935</td>\n",
       "      <td>11,7</td>\n",
       "      <td>10,2</td>\n",
       "      <td>32,5</td>\n",
       "      <td>45,6</td>\n",
       "    </tr>\n",
       "    <tr>\n",
       "      <th>1</th>\n",
       "      <td>1936</td>\n",
       "      <td>11,9</td>\n",
       "      <td>10,0</td>\n",
       "      <td>34,6</td>\n",
       "      <td>43,4</td>\n",
       "    </tr>\n",
       "    <tr>\n",
       "      <th>2</th>\n",
       "      <td>1937</td>\n",
       "      <td>10,2</td>\n",
       "      <td>10,9</td>\n",
       "      <td>36,5</td>\n",
       "      <td>42,4</td>\n",
       "    </tr>\n",
       "    <tr>\n",
       "      <th>3</th>\n",
       "      <td>1938</td>\n",
       "      <td>12,1</td>\n",
       "      <td>10,1</td>\n",
       "      <td>37,7</td>\n",
       "      <td>40,0</td>\n",
       "    </tr>\n",
       "    <tr>\n",
       "      <th>4</th>\n",
       "      <td>1939</td>\n",
       "      <td>11,6</td>\n",
       "      <td>10,3</td>\n",
       "      <td>40,1</td>\n",
       "      <td>38,0</td>\n",
       "    </tr>\n",
       "  </tbody>\n",
       "</table>\n",
       "</div>"
      ],
      "text/plain": [
       "   Jaar Geen kinderen 1 kind 2 kinderen 3 of meer kinderen\n",
       "0  1935          11,7   10,2       32,5               45,6\n",
       "1  1936          11,9   10,0       34,6               43,4\n",
       "2  1937          10,2   10,9       36,5               42,4\n",
       "3  1938          12,1   10,1       37,7               40,0\n",
       "4  1939          11,6   10,3       40,1               38,0"
      ]
     },
     "execution_count": 24,
     "metadata": {},
     "output_type": "execute_result"
    }
   ],
   "source": [
    "df_amount.head(5)"
   ]
  },
  {
   "cell_type": "code",
   "execution_count": 25,
   "id": "20b9126a",
   "metadata": {},
   "outputs": [],
   "source": [
    "df_amount['year']=df_amount.Jaar"
   ]
  },
  {
   "cell_type": "code",
   "execution_count": 26,
   "id": "64555d77",
   "metadata": {},
   "outputs": [],
   "source": [
    "df_amount['zero'] = df_amount['Geen kinderen']"
   ]
  },
  {
   "cell_type": "code",
   "execution_count": 27,
   "id": "56e3225c",
   "metadata": {},
   "outputs": [],
   "source": [
    "df_amount['one'] = df_amount['1 kind']"
   ]
  },
  {
   "cell_type": "code",
   "execution_count": 28,
   "id": "bb703a46",
   "metadata": {},
   "outputs": [],
   "source": [
    "df_amount['two'] = df_amount['2 kinderen']"
   ]
  },
  {
   "cell_type": "code",
   "execution_count": 29,
   "id": "13a290e7",
   "metadata": {},
   "outputs": [],
   "source": [
    "df_amount['more'] = df_amount['3 of meer kinderen']"
   ]
  },
  {
   "cell_type": "code",
   "execution_count": 30,
   "id": "b14000e2",
   "metadata": {},
   "outputs": [],
   "source": [
    "df_amount = df_amount.drop(columns=['Jaar', 'Geen kinderen', '1 kind', '2 kinderen', '3 of meer kinderen'])"
   ]
  },
  {
   "cell_type": "code",
   "execution_count": 31,
   "id": "d41dceae",
   "metadata": {},
   "outputs": [
    {
     "data": {
      "text/html": [
       "<div>\n",
       "<style scoped>\n",
       "    .dataframe tbody tr th:only-of-type {\n",
       "        vertical-align: middle;\n",
       "    }\n",
       "\n",
       "    .dataframe tbody tr th {\n",
       "        vertical-align: top;\n",
       "    }\n",
       "\n",
       "    .dataframe thead th {\n",
       "        text-align: right;\n",
       "    }\n",
       "</style>\n",
       "<table border=\"1\" class=\"dataframe\">\n",
       "  <thead>\n",
       "    <tr style=\"text-align: right;\">\n",
       "      <th></th>\n",
       "      <th>year</th>\n",
       "      <th>zero</th>\n",
       "      <th>one</th>\n",
       "      <th>two</th>\n",
       "      <th>more</th>\n",
       "    </tr>\n",
       "  </thead>\n",
       "  <tbody>\n",
       "    <tr>\n",
       "      <th>0</th>\n",
       "      <td>1935</td>\n",
       "      <td>11,7</td>\n",
       "      <td>10,2</td>\n",
       "      <td>32,5</td>\n",
       "      <td>45,6</td>\n",
       "    </tr>\n",
       "    <tr>\n",
       "      <th>1</th>\n",
       "      <td>1936</td>\n",
       "      <td>11,9</td>\n",
       "      <td>10,0</td>\n",
       "      <td>34,6</td>\n",
       "      <td>43,4</td>\n",
       "    </tr>\n",
       "    <tr>\n",
       "      <th>2</th>\n",
       "      <td>1937</td>\n",
       "      <td>10,2</td>\n",
       "      <td>10,9</td>\n",
       "      <td>36,5</td>\n",
       "      <td>42,4</td>\n",
       "    </tr>\n",
       "    <tr>\n",
       "      <th>3</th>\n",
       "      <td>1938</td>\n",
       "      <td>12,1</td>\n",
       "      <td>10,1</td>\n",
       "      <td>37,7</td>\n",
       "      <td>40,0</td>\n",
       "    </tr>\n",
       "    <tr>\n",
       "      <th>4</th>\n",
       "      <td>1939</td>\n",
       "      <td>11,6</td>\n",
       "      <td>10,3</td>\n",
       "      <td>40,1</td>\n",
       "      <td>38,0</td>\n",
       "    </tr>\n",
       "  </tbody>\n",
       "</table>\n",
       "</div>"
      ],
      "text/plain": [
       "   year  zero   one   two  more\n",
       "0  1935  11,7  10,2  32,5  45,6\n",
       "1  1936  11,9  10,0  34,6  43,4\n",
       "2  1937  10,2  10,9  36,5  42,4\n",
       "3  1938  12,1  10,1  37,7  40,0\n",
       "4  1939  11,6  10,3  40,1  38,0"
      ]
     },
     "execution_count": 31,
     "metadata": {},
     "output_type": "execute_result"
    }
   ],
   "source": [
    "df_amount.head(5)"
   ]
  },
  {
   "cell_type": "code",
   "execution_count": 34,
   "id": "3fa946ea",
   "metadata": {},
   "outputs": [],
   "source": [
    "df_age=pd.read_csv(\"Gemiddelde leeftijd van de moeder (jaar).csv\", sep=';')"
   ]
  },
  {
   "cell_type": "code",
   "execution_count": 35,
   "id": "f2bcdc18",
   "metadata": {},
   "outputs": [],
   "source": [
    "df_age['year']=df_age.Jaar"
   ]
  },
  {
   "cell_type": "code",
   "execution_count": 36,
   "id": "fca4a0f4",
   "metadata": {},
   "outputs": [],
   "source": [
    "df_age['all']=df_age['Bij alle kinderen']"
   ]
  },
  {
   "cell_type": "code",
   "execution_count": 37,
   "id": "33400ab7",
   "metadata": {},
   "outputs": [],
   "source": [
    "df_age['first']=df_age['Bij eerste kind']"
   ]
  },
  {
   "cell_type": "code",
   "execution_count": 38,
   "id": "ecf51100",
   "metadata": {},
   "outputs": [],
   "source": [
    "df_age['second']=df_age['Bij tweede kind']"
   ]
  },
  {
   "cell_type": "code",
   "execution_count": 39,
   "id": "5aafec9d",
   "metadata": {},
   "outputs": [],
   "source": [
    "df_age=df_age.drop(columns=['Jaar', 'Bij alle kinderen', 'Bij eerste kind', 'Bij tweede kind'])"
   ]
  },
  {
   "cell_type": "code",
   "execution_count": 40,
   "id": "67a342cc",
   "metadata": {},
   "outputs": [
    {
     "data": {
      "text/html": [
       "<div>\n",
       "<style scoped>\n",
       "    .dataframe tbody tr th:only-of-type {\n",
       "        vertical-align: middle;\n",
       "    }\n",
       "\n",
       "    .dataframe tbody tr th {\n",
       "        vertical-align: top;\n",
       "    }\n",
       "\n",
       "    .dataframe thead th {\n",
       "        text-align: right;\n",
       "    }\n",
       "</style>\n",
       "<table border=\"1\" class=\"dataframe\">\n",
       "  <thead>\n",
       "    <tr style=\"text-align: right;\">\n",
       "      <th></th>\n",
       "      <th>year</th>\n",
       "      <th>all</th>\n",
       "      <th>first</th>\n",
       "      <th>second</th>\n",
       "    </tr>\n",
       "  </thead>\n",
       "  <tbody>\n",
       "    <tr>\n",
       "      <th>0</th>\n",
       "      <td>1950</td>\n",
       "      <td>30,6</td>\n",
       "      <td>26,4</td>\n",
       "      <td>29,0</td>\n",
       "    </tr>\n",
       "    <tr>\n",
       "      <th>1</th>\n",
       "      <td>1951</td>\n",
       "      <td>30,5</td>\n",
       "      <td>26,2</td>\n",
       "      <td>28,9</td>\n",
       "    </tr>\n",
       "    <tr>\n",
       "      <th>2</th>\n",
       "      <td>1952</td>\n",
       "      <td>30,4</td>\n",
       "      <td>26,2</td>\n",
       "      <td>28,9</td>\n",
       "    </tr>\n",
       "    <tr>\n",
       "      <th>3</th>\n",
       "      <td>1953</td>\n",
       "      <td>30,4</td>\n",
       "      <td>26,2</td>\n",
       "      <td>28,9</td>\n",
       "    </tr>\n",
       "    <tr>\n",
       "      <th>4</th>\n",
       "      <td>1954</td>\n",
       "      <td>30,3</td>\n",
       "      <td>26,2</td>\n",
       "      <td>28,8</td>\n",
       "    </tr>\n",
       "  </tbody>\n",
       "</table>\n",
       "</div>"
      ],
      "text/plain": [
       "   year   all first second\n",
       "0  1950  30,6  26,4   29,0\n",
       "1  1951  30,5  26,2   28,9\n",
       "2  1952  30,4  26,2   28,9\n",
       "3  1953  30,4  26,2   28,9\n",
       "4  1954  30,3  26,2   28,8"
      ]
     },
     "execution_count": 40,
     "metadata": {},
     "output_type": "execute_result"
    }
   ],
   "source": [
    "df_age.head(5)"
   ]
  },
  {
   "cell_type": "code",
   "execution_count": 41,
   "id": "8766339b",
   "metadata": {},
   "outputs": [],
   "source": [
    "#graph the amount of kids over time"
   ]
  },
  {
   "cell_type": "code",
   "execution_count": null,
   "id": "26c4e240",
   "metadata": {},
   "outputs": [],
   "source": []
  }
 ],
 "metadata": {
  "kernelspec": {
   "display_name": "Python 3",
   "language": "python",
   "name": "python3"
  },
  "language_info": {
   "codemirror_mode": {
    "name": "ipython",
    "version": 3
   },
   "file_extension": ".py",
   "mimetype": "text/x-python",
   "name": "python",
   "nbconvert_exporter": "python",
   "pygments_lexer": "ipython3",
   "version": "3.8.10"
  }
 },
 "nbformat": 4,
 "nbformat_minor": 5
}
