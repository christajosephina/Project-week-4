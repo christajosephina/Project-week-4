{
 "cells": [
  {
   "cell_type": "code",
   "execution_count": 1,
   "id": "654b5309",
   "metadata": {},
   "outputs": [],
   "source": [
    "import pandas as pd"
   ]
  },
  {
   "cell_type": "code",
   "execution_count": 2,
   "id": "32f02591",
   "metadata": {},
   "outputs": [],
   "source": [
    "df_amount=pd.read_csv(\"Aantal kinderen per vrouw (%).csv\", sep=';', decimal=',')"
   ]
  },
  {
   "cell_type": "code",
   "execution_count": 3,
   "id": "11818145",
   "metadata": {},
   "outputs": [
    {
     "data": {
      "text/html": [
       "<div>\n",
       "<style scoped>\n",
       "    .dataframe tbody tr th:only-of-type {\n",
       "        vertical-align: middle;\n",
       "    }\n",
       "\n",
       "    .dataframe tbody tr th {\n",
       "        vertical-align: top;\n",
       "    }\n",
       "\n",
       "    .dataframe thead th {\n",
       "        text-align: right;\n",
       "    }\n",
       "</style>\n",
       "<table border=\"1\" class=\"dataframe\">\n",
       "  <thead>\n",
       "    <tr style=\"text-align: right;\">\n",
       "      <th></th>\n",
       "      <th>Jaar</th>\n",
       "      <th>Geen kinderen</th>\n",
       "      <th>1 kind</th>\n",
       "      <th>2 kinderen</th>\n",
       "      <th>3 of meer kinderen</th>\n",
       "    </tr>\n",
       "  </thead>\n",
       "  <tbody>\n",
       "    <tr>\n",
       "      <th>0</th>\n",
       "      <td>1935</td>\n",
       "      <td>11.7</td>\n",
       "      <td>10.2</td>\n",
       "      <td>32.5</td>\n",
       "      <td>45.6</td>\n",
       "    </tr>\n",
       "    <tr>\n",
       "      <th>1</th>\n",
       "      <td>1936</td>\n",
       "      <td>11.9</td>\n",
       "      <td>10.0</td>\n",
       "      <td>34.6</td>\n",
       "      <td>43.4</td>\n",
       "    </tr>\n",
       "    <tr>\n",
       "      <th>2</th>\n",
       "      <td>1937</td>\n",
       "      <td>10.2</td>\n",
       "      <td>10.9</td>\n",
       "      <td>36.5</td>\n",
       "      <td>42.4</td>\n",
       "    </tr>\n",
       "    <tr>\n",
       "      <th>3</th>\n",
       "      <td>1938</td>\n",
       "      <td>12.1</td>\n",
       "      <td>10.1</td>\n",
       "      <td>37.7</td>\n",
       "      <td>40.0</td>\n",
       "    </tr>\n",
       "    <tr>\n",
       "      <th>4</th>\n",
       "      <td>1939</td>\n",
       "      <td>11.6</td>\n",
       "      <td>10.3</td>\n",
       "      <td>40.1</td>\n",
       "      <td>38.0</td>\n",
       "    </tr>\n",
       "  </tbody>\n",
       "</table>\n",
       "</div>"
      ],
      "text/plain": [
       "   Jaar  Geen kinderen  1 kind  2 kinderen  3 of meer kinderen\n",
       "0  1935           11.7    10.2        32.5                45.6\n",
       "1  1936           11.9    10.0        34.6                43.4\n",
       "2  1937           10.2    10.9        36.5                42.4\n",
       "3  1938           12.1    10.1        37.7                40.0\n",
       "4  1939           11.6    10.3        40.1                38.0"
      ]
     },
     "execution_count": 3,
     "metadata": {},
     "output_type": "execute_result"
    }
   ],
   "source": [
    "df_amount.head(5)"
   ]
  },
  {
   "cell_type": "code",
   "execution_count": 4,
   "id": "20b9126a",
   "metadata": {},
   "outputs": [],
   "source": [
    "df_amount['year']=df_amount.Jaar"
   ]
  },
  {
   "cell_type": "code",
   "execution_count": 5,
   "id": "64555d77",
   "metadata": {},
   "outputs": [],
   "source": [
    "df_amount['zero'] = df_amount['Geen kinderen']"
   ]
  },
  {
   "cell_type": "code",
   "execution_count": 6,
   "id": "56e3225c",
   "metadata": {},
   "outputs": [],
   "source": [
    "df_amount['one'] = df_amount['1 kind']"
   ]
  },
  {
   "cell_type": "code",
   "execution_count": 7,
   "id": "bb703a46",
   "metadata": {},
   "outputs": [],
   "source": [
    "df_amount['two'] = df_amount['2 kinderen']"
   ]
  },
  {
   "cell_type": "code",
   "execution_count": 8,
   "id": "13a290e7",
   "metadata": {},
   "outputs": [],
   "source": [
    "df_amount['more'] = df_amount['3 of meer kinderen']"
   ]
  },
  {
   "cell_type": "code",
   "execution_count": 9,
   "id": "6aa66cb1",
   "metadata": {},
   "outputs": [],
   "source": [
    "df_amount = df_amount.drop(columns=['Jaar', 'Geen kinderen', '1 kind', '2 kinderen', '3 of meer kinderen'])"
   ]
  },
  {
   "cell_type": "code",
   "execution_count": 10,
   "id": "d41dceae",
   "metadata": {},
   "outputs": [
    {
     "data": {
      "text/html": [
       "<div>\n",
       "<style scoped>\n",
       "    .dataframe tbody tr th:only-of-type {\n",
       "        vertical-align: middle;\n",
       "    }\n",
       "\n",
       "    .dataframe tbody tr th {\n",
       "        vertical-align: top;\n",
       "    }\n",
       "\n",
       "    .dataframe thead th {\n",
       "        text-align: right;\n",
       "    }\n",
       "</style>\n",
       "<table border=\"1\" class=\"dataframe\">\n",
       "  <thead>\n",
       "    <tr style=\"text-align: right;\">\n",
       "      <th></th>\n",
       "      <th>year</th>\n",
       "      <th>zero</th>\n",
       "      <th>one</th>\n",
       "      <th>two</th>\n",
       "      <th>more</th>\n",
       "    </tr>\n",
       "  </thead>\n",
       "  <tbody>\n",
       "    <tr>\n",
       "      <th>0</th>\n",
       "      <td>1935</td>\n",
       "      <td>11.7</td>\n",
       "      <td>10.2</td>\n",
       "      <td>32.5</td>\n",
       "      <td>45.6</td>\n",
       "    </tr>\n",
       "    <tr>\n",
       "      <th>1</th>\n",
       "      <td>1936</td>\n",
       "      <td>11.9</td>\n",
       "      <td>10.0</td>\n",
       "      <td>34.6</td>\n",
       "      <td>43.4</td>\n",
       "    </tr>\n",
       "    <tr>\n",
       "      <th>2</th>\n",
       "      <td>1937</td>\n",
       "      <td>10.2</td>\n",
       "      <td>10.9</td>\n",
       "      <td>36.5</td>\n",
       "      <td>42.4</td>\n",
       "    </tr>\n",
       "    <tr>\n",
       "      <th>3</th>\n",
       "      <td>1938</td>\n",
       "      <td>12.1</td>\n",
       "      <td>10.1</td>\n",
       "      <td>37.7</td>\n",
       "      <td>40.0</td>\n",
       "    </tr>\n",
       "    <tr>\n",
       "      <th>4</th>\n",
       "      <td>1939</td>\n",
       "      <td>11.6</td>\n",
       "      <td>10.3</td>\n",
       "      <td>40.1</td>\n",
       "      <td>38.0</td>\n",
       "    </tr>\n",
       "  </tbody>\n",
       "</table>\n",
       "</div>"
      ],
      "text/plain": [
       "   year  zero   one   two  more\n",
       "0  1935  11.7  10.2  32.5  45.6\n",
       "1  1936  11.9  10.0  34.6  43.4\n",
       "2  1937  10.2  10.9  36.5  42.4\n",
       "3  1938  12.1  10.1  37.7  40.0\n",
       "4  1939  11.6  10.3  40.1  38.0"
      ]
     },
     "execution_count": 10,
     "metadata": {},
     "output_type": "execute_result"
    }
   ],
   "source": [
    "df_amount.head(5)"
   ]
  },
  {
   "cell_type": "code",
   "execution_count": 41,
   "id": "11b193fb",
   "metadata": {},
   "outputs": [
    {
     "data": {
      "text/plain": [
       "(46, 5)"
      ]
     },
     "execution_count": 41,
     "metadata": {},
     "output_type": "execute_result"
    }
   ],
   "source": [
    "df_amount.shape"
   ]
  },
  {
   "cell_type": "code",
   "execution_count": 11,
   "id": "2e868e9c",
   "metadata": {},
   "outputs": [
    {
     "data": {
      "text/plain": [
       "year      int64\n",
       "zero    float64\n",
       "one     float64\n",
       "two     float64\n",
       "more    float64\n",
       "dtype: object"
      ]
     },
     "execution_count": 11,
     "metadata": {},
     "output_type": "execute_result"
    }
   ],
   "source": [
    "df_amount.dtypes"
   ]
  },
  {
   "cell_type": "code",
   "execution_count": 32,
   "id": "3fa946ea",
   "metadata": {},
   "outputs": [],
   "source": [
    "df_age=pd.read_csv(\"Gemiddelde leeftijd van de moeder (jaar).csv\", sep=';', decimal=',')"
   ]
  },
  {
   "cell_type": "code",
   "execution_count": 33,
   "id": "574bb6eb",
   "metadata": {},
   "outputs": [],
   "source": [
    "df_age['year']=df_age.Jaar"
   ]
  },
  {
   "cell_type": "code",
   "execution_count": 34,
   "id": "418cd288",
   "metadata": {},
   "outputs": [],
   "source": [
    "df_age['all']=df_age['Bij alle kinderen']"
   ]
  },
  {
   "cell_type": "code",
   "execution_count": 35,
   "id": "74c86ecb",
   "metadata": {},
   "outputs": [],
   "source": [
    "df_age['first']=df_age['Bij eerste kind']"
   ]
  },
  {
   "cell_type": "code",
   "execution_count": 36,
   "id": "1c0ae52c",
   "metadata": {},
   "outputs": [],
   "source": [
    "df_age['second']=df_age['Bij tweede kind']"
   ]
  },
  {
   "cell_type": "code",
   "execution_count": 37,
   "id": "57d01dfc",
   "metadata": {},
   "outputs": [],
   "source": [
    "df_age=df_age.drop(columns=['Jaar', 'Bij alle kinderen', 'Bij eerste kind', 'Bij tweede kind'])"
   ]
  },
  {
   "cell_type": "code",
   "execution_count": 38,
   "id": "67a342cc",
   "metadata": {},
   "outputs": [
    {
     "data": {
      "text/html": [
       "<div>\n",
       "<style scoped>\n",
       "    .dataframe tbody tr th:only-of-type {\n",
       "        vertical-align: middle;\n",
       "    }\n",
       "\n",
       "    .dataframe tbody tr th {\n",
       "        vertical-align: top;\n",
       "    }\n",
       "\n",
       "    .dataframe thead th {\n",
       "        text-align: right;\n",
       "    }\n",
       "</style>\n",
       "<table border=\"1\" class=\"dataframe\">\n",
       "  <thead>\n",
       "    <tr style=\"text-align: right;\">\n",
       "      <th></th>\n",
       "      <th>year</th>\n",
       "      <th>all</th>\n",
       "      <th>first</th>\n",
       "      <th>second</th>\n",
       "    </tr>\n",
       "  </thead>\n",
       "  <tbody>\n",
       "    <tr>\n",
       "      <th>0</th>\n",
       "      <td>1950</td>\n",
       "      <td>30.6</td>\n",
       "      <td>26.4</td>\n",
       "      <td>29.0</td>\n",
       "    </tr>\n",
       "    <tr>\n",
       "      <th>1</th>\n",
       "      <td>1951</td>\n",
       "      <td>30.5</td>\n",
       "      <td>26.2</td>\n",
       "      <td>28.9</td>\n",
       "    </tr>\n",
       "    <tr>\n",
       "      <th>2</th>\n",
       "      <td>1952</td>\n",
       "      <td>30.4</td>\n",
       "      <td>26.2</td>\n",
       "      <td>28.9</td>\n",
       "    </tr>\n",
       "    <tr>\n",
       "      <th>3</th>\n",
       "      <td>1953</td>\n",
       "      <td>30.4</td>\n",
       "      <td>26.2</td>\n",
       "      <td>28.9</td>\n",
       "    </tr>\n",
       "    <tr>\n",
       "      <th>4</th>\n",
       "      <td>1954</td>\n",
       "      <td>30.3</td>\n",
       "      <td>26.2</td>\n",
       "      <td>28.8</td>\n",
       "    </tr>\n",
       "  </tbody>\n",
       "</table>\n",
       "</div>"
      ],
      "text/plain": [
       "   year   all  first  second\n",
       "0  1950  30.6   26.4    29.0\n",
       "1  1951  30.5   26.2    28.9\n",
       "2  1952  30.4   26.2    28.9\n",
       "3  1953  30.4   26.2    28.9\n",
       "4  1954  30.3   26.2    28.8"
      ]
     },
     "execution_count": 38,
     "metadata": {},
     "output_type": "execute_result"
    }
   ],
   "source": [
    "df_age.head(5)"
   ]
  },
  {
   "cell_type": "code",
   "execution_count": 42,
   "id": "6ccaf5e4",
   "metadata": {},
   "outputs": [
    {
     "data": {
      "text/plain": [
       "(46, 5)"
      ]
     },
     "execution_count": 42,
     "metadata": {},
     "output_type": "execute_result"
    }
   ],
   "source": [
    "df_amount.shape"
   ]
  },
  {
   "cell_type": "code",
   "execution_count": 39,
   "id": "cab9cfc8",
   "metadata": {},
   "outputs": [
    {
     "data": {
      "text/plain": [
       "year        int64\n",
       "all       float64\n",
       "first     float64\n",
       "second    float64\n",
       "dtype: object"
      ]
     },
     "execution_count": 39,
     "metadata": {},
     "output_type": "execute_result"
    }
   ],
   "source": [
    "df_age.dtypes"
   ]
  },
  {
   "cell_type": "code",
   "execution_count": 41,
   "id": "8766339b",
   "metadata": {},
   "outputs": [],
   "source": [
    "#graph the amount of kids over time and average age"
   ]
  },
  {
   "cell_type": "code",
   "execution_count": 43,
   "id": "26c4e240",
   "metadata": {},
   "outputs": [
    {
     "data": {
      "image/png": "[encoded data removed]",
      "text/plain": [
       "<Figure size 432x288 with 1 Axes>"
      ]
     },
     "metadata": {
      "needs_background": "light"
     },
     "output_type": "display_data"
    }
   ],
   "source": [
    "#why is it only going to 1980?\n",
    "import matplotlib.pyplot as plt\n",
    "ax = plt.gca()\n",
    "\n",
    "df_amount.plot(kind='line',x='year',y=[\"zero\", \"one\", \"two\", \"more\"],ax=ax)\n",
    "\n",
    "plt.show()"
   ]
  },
  {
   "cell_type": "code",
   "execution_count": 61,
   "id": "b83402d9",
   "metadata": {},
   "outputs": [
    {
     "data": {
      "image/png": "[encoded data removed]",
      "text/plain": [
       "<Figure size 432x288 with 1 Axes>"
      ]
     },
     "metadata": {
      "needs_background": "light"
     },
     "output_type": "display_data"
    }
   ],
   "source": [
    "ax = plt.gca()\n",
    "\n",
    "df_age.plot(kind='line',x='year',y=[\"all\", \"first\", \"second\"],ax=ax)\n",
    "\n",
    "plt.show()"
   ]
  },
  {
   "cell_type": "code",
   "execution_count": 106,
   "id": "b9f54d0b",
   "metadata": {},
   "outputs": [],
   "source": [
    "df_babies=pd.read_csv(\"Gezondheid__leefstijl__zorggebruik_en__aanbod__doodsoorzaken__vanaf_1900_02072021_164526.csv\", sep=';')"
   ]
  },
  {
   "cell_type": "code",
   "execution_count": 107,
   "id": "d6e0c03a",
   "metadata": {},
   "outputs": [],
   "source": [
    "df_babies=df_babies.transpose()"
   ]
  },
  {
   "cell_type": "code",
   "execution_count": 108,
   "id": "6059a7f8",
   "metadata": {},
   "outputs": [],
   "source": [
    "df_babies['People']=(df_babies[0] * 1000)"
   ]
  },
  {
   "cell_type": "code",
   "execution_count": 109,
   "id": "f9e152da",
   "metadata": {},
   "outputs": [],
   "source": [
    "df_babies['baby']=(df_babies[1] * 1000)"
   ]
  },
  {
   "cell_type": "code",
   "execution_count": 110,
   "id": "26f36e51",
   "metadata": {},
   "outputs": [],
   "source": [
    "df_babies=df_babies.drop(columns=[0,1])"
   ]
  },
  {
   "cell_type": "code",
   "execution_count": 111,
   "id": "49fdcc30",
   "metadata": {},
   "outputs": [],
   "source": [
    "df_babies=df_babies.drop(['Jaar'])"
   ]
  },
  {
   "cell_type": "code",
   "execution_count": 112,
   "id": "d66c8bd8",
   "metadata": {},
   "outputs": [
    {
     "data": {
      "text/html": [
       "<div>\n",
       "<style scoped>\n",
       "    .dataframe tbody tr th:only-of-type {\n",
       "        vertical-align: middle;\n",
       "    }\n",
       "\n",
       "    .dataframe tbody tr th {\n",
       "        vertical-align: top;\n",
       "    }\n",
       "\n",
       "    .dataframe thead th {\n",
       "        text-align: right;\n",
       "    }\n",
       "</style>\n",
       "<table border=\"1\" class=\"dataframe\">\n",
       "  <thead>\n",
       "    <tr style=\"text-align: right;\">\n",
       "      <th></th>\n",
       "      <th>People</th>\n",
       "      <th>baby</th>\n",
       "    </tr>\n",
       "  </thead>\n",
       "  <tbody>\n",
       "    <tr>\n",
       "      <th>1900</th>\n",
       "      <td>5104000</td>\n",
       "      <td>163000</td>\n",
       "    </tr>\n",
       "    <tr>\n",
       "      <th>1901</th>\n",
       "      <td>5163000</td>\n",
       "      <td>168000</td>\n",
       "    </tr>\n",
       "    <tr>\n",
       "      <th>1902</th>\n",
       "      <td>5233000</td>\n",
       "      <td>169000</td>\n",
       "    </tr>\n",
       "    <tr>\n",
       "      <th>1903</th>\n",
       "      <td>5307000</td>\n",
       "      <td>170000</td>\n",
       "    </tr>\n",
       "    <tr>\n",
       "      <th>1904</th>\n",
       "      <td>5384000</td>\n",
       "      <td>171000</td>\n",
       "    </tr>\n",
       "  </tbody>\n",
       "</table>\n",
       "</div>"
      ],
      "text/plain": [
       "       People    baby\n",
       "1900  5104000  163000\n",
       "1901  5163000  168000\n",
       "1902  5233000  169000\n",
       "1903  5307000  170000\n",
       "1904  5384000  171000"
      ]
     },
     "execution_count": 112,
     "metadata": {},
     "output_type": "execute_result"
    }
   ],
   "source": [
    "df_babies.head(5)"
   ]
  },
  {
   "cell_type": "code",
   "execution_count": 113,
   "id": "3b027d1c",
   "metadata": {},
   "outputs": [],
   "source": [
    "df_babies['newbornshare']=(df_babies['baby']*100/df_babies['People'])"
   ]
  },
  {
   "cell_type": "code",
   "execution_count": 114,
   "id": "0a11dd73",
   "metadata": {},
   "outputs": [
    {
     "data": {
      "text/html": [
       "<div>\n",
       "<style scoped>\n",
       "    .dataframe tbody tr th:only-of-type {\n",
       "        vertical-align: middle;\n",
       "    }\n",
       "\n",
       "    .dataframe tbody tr th {\n",
       "        vertical-align: top;\n",
       "    }\n",
       "\n",
       "    .dataframe thead th {\n",
       "        text-align: right;\n",
       "    }\n",
       "</style>\n",
       "<table border=\"1\" class=\"dataframe\">\n",
       "  <thead>\n",
       "    <tr style=\"text-align: right;\">\n",
       "      <th></th>\n",
       "      <th>People</th>\n",
       "      <th>baby</th>\n",
       "      <th>newbornshare</th>\n",
       "    </tr>\n",
       "  </thead>\n",
       "  <tbody>\n",
       "    <tr>\n",
       "      <th>1900</th>\n",
       "      <td>5104000</td>\n",
       "      <td>163000</td>\n",
       "      <td>3.193574</td>\n",
       "    </tr>\n",
       "    <tr>\n",
       "      <th>1901</th>\n",
       "      <td>5163000</td>\n",
       "      <td>168000</td>\n",
       "      <td>3.253922</td>\n",
       "    </tr>\n",
       "    <tr>\n",
       "      <th>1902</th>\n",
       "      <td>5233000</td>\n",
       "      <td>169000</td>\n",
       "      <td>3.229505</td>\n",
       "    </tr>\n",
       "    <tr>\n",
       "      <th>1903</th>\n",
       "      <td>5307000</td>\n",
       "      <td>170000</td>\n",
       "      <td>3.203316</td>\n",
       "    </tr>\n",
       "    <tr>\n",
       "      <th>1904</th>\n",
       "      <td>5384000</td>\n",
       "      <td>171000</td>\n",
       "      <td>3.176077</td>\n",
       "    </tr>\n",
       "    <tr>\n",
       "      <th>...</th>\n",
       "      <td>...</td>\n",
       "      <td>...</td>\n",
       "      <td>...</td>\n",
       "    </tr>\n",
       "    <tr>\n",
       "      <th>2015</th>\n",
       "      <td>16901000</td>\n",
       "      <td>171000</td>\n",
       "      <td>1.011774</td>\n",
       "    </tr>\n",
       "    <tr>\n",
       "      <th>2016</th>\n",
       "      <td>16979000</td>\n",
       "      <td>173000</td>\n",
       "      <td>1.018906</td>\n",
       "    </tr>\n",
       "    <tr>\n",
       "      <th>2017</th>\n",
       "      <td>17082000</td>\n",
       "      <td>170000</td>\n",
       "      <td>0.9952</td>\n",
       "    </tr>\n",
       "    <tr>\n",
       "      <th>2018</th>\n",
       "      <td>17181000</td>\n",
       "      <td>169000</td>\n",
       "      <td>0.983645</td>\n",
       "    </tr>\n",
       "    <tr>\n",
       "      <th>2019</th>\n",
       "      <td>17282000</td>\n",
       "      <td>170000</td>\n",
       "      <td>0.983682</td>\n",
       "    </tr>\n",
       "  </tbody>\n",
       "</table>\n",
       "<p>120 rows × 3 columns</p>\n",
       "</div>"
      ],
      "text/plain": [
       "        People    baby newbornshare\n",
       "1900   5104000  163000     3.193574\n",
       "1901   5163000  168000     3.253922\n",
       "1902   5233000  169000     3.229505\n",
       "1903   5307000  170000     3.203316\n",
       "1904   5384000  171000     3.176077\n",
       "...        ...     ...          ...\n",
       "2015  16901000  171000     1.011774\n",
       "2016  16979000  173000     1.018906\n",
       "2017  17082000  170000       0.9952\n",
       "2018  17181000  169000     0.983645\n",
       "2019  17282000  170000     0.983682\n",
       "\n",
       "[120 rows x 3 columns]"
      ]
     },
     "execution_count": 114,
     "metadata": {},
     "output_type": "execute_result"
    }
   ],
   "source": [
    "df_babies"
   ]
  },
  {
   "cell_type": "code",
   "execution_count": 120,
   "id": "902ef69d",
   "metadata": {},
   "outputs": [
    {
     "data": {
      "text/plain": [
       "<bound method hist_series of 1900    3.193574\n",
       "1901    3.253922\n",
       "1902    3.229505\n",
       "1903    3.203316\n",
       "1904    3.176077\n",
       "          ...   \n",
       "2015    1.011774\n",
       "2016    1.018906\n",
       "2017      0.9952\n",
       "2018    0.983645\n",
       "2019    0.983682\n",
       "Name: newbornshare, Length: 120, dtype: object>"
      ]
     },
     "execution_count": 120,
     "metadata": {},
     "output_type": "execute_result"
    }
   ],
   "source": [
    "df_babies.newbornshare.hist"
   ]
  },
  {
   "cell_type": "code",
   "execution_count": null,
   "id": "ef3203f4",
   "metadata": {},
   "outputs": [],
   "source": []
  }
 ],
 "metadata": {
  "kernelspec": {
   "display_name": "Python 3",
   "language": "python",
   "name": "python3"
  },
  "language_info": {
   "codemirror_mode": {
    "name": "ipython",
    "version": 3
   },
   "file_extension": ".py",
   "mimetype": "text/x-python",
   "name": "python",
   "nbconvert_exporter": "python",
   "pygments_lexer": "ipython3",
   "version": "3.8.10"
  }
 },
 "nbformat": 4,
 "nbformat_minor": 5
}
