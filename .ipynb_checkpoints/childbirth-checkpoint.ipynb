{
 "cells": [
  {
   "cell_type": "code",
   "execution_count": 1,
   "id": "654b5309",
   "metadata": {},
   "outputs": [],
   "source": [
    "import pandas as pd"
   ]
  },
  {
   "cell_type": "markdown",
   "id": "de76cf54",
   "metadata": {},
   "source": [
    "# How many kids do women have?"
   ]
  },
  {
   "cell_type": "markdown",
   "id": "fc2ab70e",
   "metadata": {},
   "source": [
    "This csv goes up until 1980, because we don't know it yet for younger women."
   ]
  },
  {
   "cell_type": "code",
   "execution_count": 2,
   "id": "32f02591",
   "metadata": {},
   "outputs": [],
   "source": [
    "df_amount=pd.read_csv(\"Aantal kinderen per vrouw (%).csv\", sep=';', decimal=',')"
   ]
  },
  {
   "cell_type": "code",
   "execution_count": 3,
   "id": "11818145",
   "metadata": {},
   "outputs": [],
   "source": [
    "#df_amount.tail(5)"
   ]
  },
  {
   "cell_type": "code",
   "execution_count": 4,
   "id": "20b9126a",
   "metadata": {},
   "outputs": [],
   "source": [
    "#it needs some changes to make it readable.\n",
    "df_amount['year']=df_amount.Jaar"
   ]
  },
  {
   "cell_type": "code",
   "execution_count": 5,
   "id": "64555d77",
   "metadata": {},
   "outputs": [],
   "source": [
    "df_amount['zero'] = df_amount['Geen kinderen']"
   ]
  },
  {
   "cell_type": "code",
   "execution_count": 6,
   "id": "56e3225c",
   "metadata": {},
   "outputs": [],
   "source": [
    "df_amount['one'] = df_amount['1 kind']"
   ]
  },
  {
   "cell_type": "code",
   "execution_count": 7,
   "id": "bb703a46",
   "metadata": {},
   "outputs": [],
   "source": [
    "df_amount['two'] = df_amount['2 kinderen']"
   ]
  },
  {
   "cell_type": "code",
   "execution_count": 8,
   "id": "13a290e7",
   "metadata": {},
   "outputs": [],
   "source": [
    "df_amount['more'] = df_amount['3 of meer kinderen']"
   ]
  },
  {
   "cell_type": "code",
   "execution_count": 9,
   "id": "6aa66cb1",
   "metadata": {},
   "outputs": [],
   "source": [
    "df_amount = df_amount.drop(columns=['Jaar', 'Geen kinderen', '1 kind', '2 kinderen', '3 of meer kinderen'])"
   ]
  },
  {
   "cell_type": "code",
   "execution_count": 10,
   "id": "d41dceae",
   "metadata": {},
   "outputs": [
    {
     "data": {
      "text/html": [
       "<div>\n",
       "<style scoped>\n",
       "    .dataframe tbody tr th:only-of-type {\n",
       "        vertical-align: middle;\n",
       "    }\n",
       "\n",
       "    .dataframe tbody tr th {\n",
       "        vertical-align: top;\n",
       "    }\n",
       "\n",
       "    .dataframe thead th {\n",
       "        text-align: right;\n",
       "    }\n",
       "</style>\n",
       "<table border=\"1\" class=\"dataframe\">\n",
       "  <thead>\n",
       "    <tr style=\"text-align: right;\">\n",
       "      <th></th>\n",
       "      <th>year</th>\n",
       "      <th>zero</th>\n",
       "      <th>one</th>\n",
       "      <th>two</th>\n",
       "      <th>more</th>\n",
       "    </tr>\n",
       "  </thead>\n",
       "  <tbody>\n",
       "    <tr>\n",
       "      <th>0</th>\n",
       "      <td>1935</td>\n",
       "      <td>11.7</td>\n",
       "      <td>10.2</td>\n",
       "      <td>32.5</td>\n",
       "      <td>45.6</td>\n",
       "    </tr>\n",
       "    <tr>\n",
       "      <th>1</th>\n",
       "      <td>1936</td>\n",
       "      <td>11.9</td>\n",
       "      <td>10.0</td>\n",
       "      <td>34.6</td>\n",
       "      <td>43.4</td>\n",
       "    </tr>\n",
       "    <tr>\n",
       "      <th>2</th>\n",
       "      <td>1937</td>\n",
       "      <td>10.2</td>\n",
       "      <td>10.9</td>\n",
       "      <td>36.5</td>\n",
       "      <td>42.4</td>\n",
       "    </tr>\n",
       "    <tr>\n",
       "      <th>3</th>\n",
       "      <td>1938</td>\n",
       "      <td>12.1</td>\n",
       "      <td>10.1</td>\n",
       "      <td>37.7</td>\n",
       "      <td>40.0</td>\n",
       "    </tr>\n",
       "    <tr>\n",
       "      <th>4</th>\n",
       "      <td>1939</td>\n",
       "      <td>11.6</td>\n",
       "      <td>10.3</td>\n",
       "      <td>40.1</td>\n",
       "      <td>38.0</td>\n",
       "    </tr>\n",
       "  </tbody>\n",
       "</table>\n",
       "</div>"
      ],
      "text/plain": [
       "   year  zero   one   two  more\n",
       "0  1935  11.7  10.2  32.5  45.6\n",
       "1  1936  11.9  10.0  34.6  43.4\n",
       "2  1937  10.2  10.9  36.5  42.4\n",
       "3  1938  12.1  10.1  37.7  40.0\n",
       "4  1939  11.6  10.3  40.1  38.0"
      ]
     },
     "execution_count": 10,
     "metadata": {},
     "output_type": "execute_result"
    }
   ],
   "source": [
    "df_amount.head(5)"
   ]
  },
  {
   "cell_type": "code",
   "execution_count": 11,
   "id": "5339d5f1",
   "metadata": {},
   "outputs": [],
   "source": [
    "#df_amount.shape"
   ]
  },
  {
   "cell_type": "code",
   "execution_count": 12,
   "id": "2e868e9c",
   "metadata": {},
   "outputs": [],
   "source": [
    "#df_amount.dtypes"
   ]
  },
  {
   "cell_type": "code",
   "execution_count": 13,
   "id": "26c4e240",
   "metadata": {},
   "outputs": [
    {
     "data": {
      "image/png": "[encoded data removed]",
      "text/plain": [
       "<Figure size 432x288 with 1 Axes>"
      ]
     },
     "metadata": {
      "needs_background": "light"
     },
     "output_type": "display_data"
    }
   ],
   "source": [
    "#graph it and add some annotations (search for matplotlib annotations on google)\n",
    "import matplotlib.pyplot as plt\n",
    "ax = plt.gca()\n",
    "\n",
    "df_amount.plot(kind='line',x='year',y=[\"zero\", \"one\", \"two\", \"more\"],ax=ax)\n",
    "plt.annotate(text='End of WW2', xy=(1945,23), xytext=(1950, 30),arrowprops=dict(arrowstyle='->', linewidth=2))\n",
    "plt.annotate(text='End of WW2', xy=(1945,50), xytext=(1950, 30),arrowprops=dict(arrowstyle='->', linewidth=2))\n",
    "plt.annotate(text='Introduction of the pill', xy=(1964,23), xytext=(1960, 10),arrowprops=dict(arrowstyle='->', linewidth=2))\n",
    "plt.show()"
   ]
  },
  {
   "cell_type": "markdown",
   "id": "07f3cecd",
   "metadata": {},
   "source": [
    "# What is the average age of a mother at childbirth?"
   ]
  },
  {
   "cell_type": "code",
   "execution_count": 14,
   "id": "3fa946ea",
   "metadata": {},
   "outputs": [],
   "source": [
    "df_age=pd.read_csv(\"Gemiddelde leeftijd van de moeder (jaar).csv\", sep=';', decimal=',')"
   ]
  },
  {
   "cell_type": "code",
   "execution_count": 15,
   "id": "574bb6eb",
   "metadata": {},
   "outputs": [],
   "source": [
    "df_age['year']=df_age.Jaar"
   ]
  },
  {
   "cell_type": "code",
   "execution_count": 16,
   "id": "418cd288",
   "metadata": {},
   "outputs": [],
   "source": [
    "df_age['all']=df_age['Bij alle kinderen']"
   ]
  },
  {
   "cell_type": "code",
   "execution_count": 17,
   "id": "74c86ecb",
   "metadata": {},
   "outputs": [],
   "source": [
    "df_age['first']=df_age['Bij eerste kind']"
   ]
  },
  {
   "cell_type": "code",
   "execution_count": 18,
   "id": "1c0ae52c",
   "metadata": {},
   "outputs": [],
   "source": [
    "df_age['second']=df_age['Bij tweede kind']"
   ]
  },
  {
   "cell_type": "code",
   "execution_count": 19,
   "id": "57d01dfc",
   "metadata": {},
   "outputs": [],
   "source": [
    "df_age=df_age.drop(columns=['Jaar', 'Bij alle kinderen', 'Bij eerste kind', 'Bij tweede kind'])"
   ]
  },
  {
   "cell_type": "code",
   "execution_count": 20,
   "id": "67a342cc",
   "metadata": {},
   "outputs": [
    {
     "data": {
      "text/html": [
       "<div>\n",
       "<style scoped>\n",
       "    .dataframe tbody tr th:only-of-type {\n",
       "        vertical-align: middle;\n",
       "    }\n",
       "\n",
       "    .dataframe tbody tr th {\n",
       "        vertical-align: top;\n",
       "    }\n",
       "\n",
       "    .dataframe thead th {\n",
       "        text-align: right;\n",
       "    }\n",
       "</style>\n",
       "<table border=\"1\" class=\"dataframe\">\n",
       "  <thead>\n",
       "    <tr style=\"text-align: right;\">\n",
       "      <th></th>\n",
       "      <th>year</th>\n",
       "      <th>all</th>\n",
       "      <th>first</th>\n",
       "      <th>second</th>\n",
       "    </tr>\n",
       "  </thead>\n",
       "  <tbody>\n",
       "    <tr>\n",
       "      <th>65</th>\n",
       "      <td>2015</td>\n",
       "      <td>31.1</td>\n",
       "      <td>29.6</td>\n",
       "      <td>31.8</td>\n",
       "    </tr>\n",
       "    <tr>\n",
       "      <th>66</th>\n",
       "      <td>2016</td>\n",
       "      <td>31.2</td>\n",
       "      <td>29.7</td>\n",
       "      <td>31.8</td>\n",
       "    </tr>\n",
       "    <tr>\n",
       "      <th>67</th>\n",
       "      <td>2017</td>\n",
       "      <td>31.3</td>\n",
       "      <td>29.8</td>\n",
       "      <td>31.9</td>\n",
       "    </tr>\n",
       "    <tr>\n",
       "      <th>68</th>\n",
       "      <td>2018</td>\n",
       "      <td>31.4</td>\n",
       "      <td>29.9</td>\n",
       "      <td>31.9</td>\n",
       "    </tr>\n",
       "    <tr>\n",
       "      <th>69</th>\n",
       "      <td>2019</td>\n",
       "      <td>31.5</td>\n",
       "      <td>30.0</td>\n",
       "      <td>32.1</td>\n",
       "    </tr>\n",
       "  </tbody>\n",
       "</table>\n",
       "</div>"
      ],
      "text/plain": [
       "    year   all  first  second\n",
       "65  2015  31.1   29.6    31.8\n",
       "66  2016  31.2   29.7    31.8\n",
       "67  2017  31.3   29.8    31.9\n",
       "68  2018  31.4   29.9    31.9\n",
       "69  2019  31.5   30.0    32.1"
      ]
     },
     "execution_count": 20,
     "metadata": {},
     "output_type": "execute_result"
    }
   ],
   "source": [
    "df_age.tail(5)"
   ]
  },
  {
   "cell_type": "code",
   "execution_count": 21,
   "id": "d350b605",
   "metadata": {},
   "outputs": [],
   "source": [
    "#df_amount.shape"
   ]
  },
  {
   "cell_type": "code",
   "execution_count": 22,
   "id": "cab9cfc8",
   "metadata": {},
   "outputs": [],
   "source": [
    "#df_age.dtypes"
   ]
  },
  {
   "cell_type": "code",
   "execution_count": 23,
   "id": "8766339b",
   "metadata": {},
   "outputs": [],
   "source": [
    "#graph the amount of kids over time and average age and add annotations "
   ]
  },
  {
   "cell_type": "code",
   "execution_count": 24,
   "id": "f96da031",
   "metadata": {},
   "outputs": [
    {
     "data": {
      "image/png": "[encoded data removed]",
      "text/plain": [
       "<Figure size 432x288 with 1 Axes>"
      ]
     },
     "metadata": {
      "needs_background": "light"
     },
     "output_type": "display_data"
    }
   ],
   "source": [
    "ax = plt.gca()\n",
    "\n",
    "df_age.plot(kind='line',x='year',y=[\"all\", \"first\", \"second\"],ax=ax)\n",
    "plt.annotate(text='Introduction of the pill', xy=(1964,24), xytext=(1951.8, 32),arrowprops=dict(arrowstyle='-', linewidth=2))\n",
    "\n",
    "plt.show()"
   ]
  },
  {
   "cell_type": "markdown",
   "id": "e94ea04c",
   "metadata": {},
   "source": [
    "# What is the average number of children per Dutch woman?"
   ]
  },
  {
   "cell_type": "code",
   "execution_count": 25,
   "id": "ba48500f",
   "metadata": {},
   "outputs": [],
   "source": [
    "#loading and cleaning the csv\n",
    "df_children=pd.read_csv(\"Geboorte__kerncijfers_07072021_150038.csv\", sep=';', decimal=',')"
   ]
  },
  {
   "cell_type": "code",
   "execution_count": 26,
   "id": "0cbdec63",
   "metadata": {},
   "outputs": [],
   "source": [
    "df_children=df_children.transpose()"
   ]
  },
  {
   "cell_type": "code",
   "execution_count": 27,
   "id": "6e82a91d",
   "metadata": {},
   "outputs": [],
   "source": [
    "df_children=df_children.drop(['Year'])"
   ]
  },
  {
   "cell_type": "code",
   "execution_count": 28,
   "id": "5a26df8c",
   "metadata": {},
   "outputs": [],
   "source": [
    "df_children=df_children.reset_index()"
   ]
  },
  {
   "cell_type": "code",
   "execution_count": 29,
   "id": "4cc215ba",
   "metadata": {},
   "outputs": [],
   "source": [
    "df_children['childavg']=df_children[0]"
   ]
  },
  {
   "cell_type": "code",
   "execution_count": 30,
   "id": "d6a25d7e",
   "metadata": {},
   "outputs": [],
   "source": [
    "df_children=df_children.drop(columns=[0])"
   ]
  },
  {
   "cell_type": "code",
   "execution_count": 31,
   "id": "3eabf661",
   "metadata": {},
   "outputs": [
    {
     "data": {
      "text/html": [
       "<div>\n",
       "<style scoped>\n",
       "    .dataframe tbody tr th:only-of-type {\n",
       "        vertical-align: middle;\n",
       "    }\n",
       "\n",
       "    .dataframe tbody tr th {\n",
       "        vertical-align: top;\n",
       "    }\n",
       "\n",
       "    .dataframe thead th {\n",
       "        text-align: right;\n",
       "    }\n",
       "</style>\n",
       "<table border=\"1\" class=\"dataframe\">\n",
       "  <thead>\n",
       "    <tr style=\"text-align: right;\">\n",
       "      <th></th>\n",
       "      <th>index</th>\n",
       "      <th>childavg</th>\n",
       "    </tr>\n",
       "  </thead>\n",
       "  <tbody>\n",
       "    <tr>\n",
       "      <th>0</th>\n",
       "      <td>1950</td>\n",
       "      <td>3.097</td>\n",
       "    </tr>\n",
       "    <tr>\n",
       "      <th>1</th>\n",
       "      <td>1951</td>\n",
       "      <td>3.051</td>\n",
       "    </tr>\n",
       "    <tr>\n",
       "      <th>2</th>\n",
       "      <td>1952</td>\n",
       "      <td>3.087</td>\n",
       "    </tr>\n",
       "    <tr>\n",
       "      <th>3</th>\n",
       "      <td>1953</td>\n",
       "      <td>3.033</td>\n",
       "    </tr>\n",
       "    <tr>\n",
       "      <th>4</th>\n",
       "      <td>1954</td>\n",
       "      <td>3.029</td>\n",
       "    </tr>\n",
       "  </tbody>\n",
       "</table>\n",
       "</div>"
      ],
      "text/plain": [
       "  index childavg\n",
       "0  1950    3.097\n",
       "1  1951    3.051\n",
       "2  1952    3.087\n",
       "3  1953    3.033\n",
       "4  1954    3.029"
      ]
     },
     "execution_count": 31,
     "metadata": {},
     "output_type": "execute_result"
    }
   ],
   "source": [
    "df_children.head()"
   ]
  },
  {
   "cell_type": "markdown",
   "id": "1d4368fd",
   "metadata": {},
   "source": [
    "Time to graph it."
   ]
  },
  {
   "cell_type": "code",
   "execution_count": 43,
   "id": "18a41b3c",
   "metadata": {},
   "outputs": [
    {
     "data": {
      "image/png": "[encoded data removed]",
      "text/plain": [
       "<Figure size 432x288 with 1 Axes>"
      ]
     },
     "metadata": {
      "needs_background": "light"
     },
     "output_type": "display_data"
    }
   ],
   "source": [
    "ax = plt.gca()\n",
    "\n",
    "df_children.plot(kind='line',x='index',y=[\"childavg\"],ax=ax)\n",
    "plt.annotate(text='Introduction of the pill', xy=(1964,3), xytext=(1964, 3),arrowprops=dict(arrowstyle='->', linewidth=2))\n",
    "plt.show()"
   ]
  },
  {
   "cell_type": "markdown",
   "id": "1bba0b1e",
   "metadata": {},
   "source": [
    "According to CBS, \"The sharp decline around 1970 was partly due to a real decline in the average number of children that women had, but also because women started delaying the birth of their first child.\""
   ]
  },
  {
   "cell_type": "markdown",
   "id": "39097dea",
   "metadata": {},
   "source": [
    "# Do women who get more babies, start earlier?"
   ]
  },
  {
   "cell_type": "markdown",
   "id": "f1f0177f",
   "metadata": {},
   "source": [
    "For this, we need to make a scaterplot. First, we need to merge average age of a mother at childbirth and the amount of kids women get."
   ]
  },
  {
   "cell_type": "code",
   "execution_count": 46,
   "id": "b1ef0d15",
   "metadata": {},
   "outputs": [],
   "source": [
    "merged = df_amount.merge(df_age, left_on='year', right_on='year')"
   ]
  },
  {
   "cell_type": "code",
   "execution_count": 47,
   "id": "46ee1542",
   "metadata": {},
   "outputs": [
    {
     "data": {
      "text/html": [
       "<div>\n",
       "<style scoped>\n",
       "    .dataframe tbody tr th:only-of-type {\n",
       "        vertical-align: middle;\n",
       "    }\n",
       "\n",
       "    .dataframe tbody tr th {\n",
       "        vertical-align: top;\n",
       "    }\n",
       "\n",
       "    .dataframe thead th {\n",
       "        text-align: right;\n",
       "    }\n",
       "</style>\n",
       "<table border=\"1\" class=\"dataframe\">\n",
       "  <thead>\n",
       "    <tr style=\"text-align: right;\">\n",
       "      <th></th>\n",
       "      <th>year</th>\n",
       "      <th>zero</th>\n",
       "      <th>one</th>\n",
       "      <th>two</th>\n",
       "      <th>more</th>\n",
       "      <th>all</th>\n",
       "      <th>first</th>\n",
       "      <th>second</th>\n",
       "    </tr>\n",
       "  </thead>\n",
       "  <tbody>\n",
       "    <tr>\n",
       "      <th>0</th>\n",
       "      <td>1950</td>\n",
       "      <td>14.6</td>\n",
       "      <td>15.2</td>\n",
       "      <td>47.2</td>\n",
       "      <td>23.1</td>\n",
       "      <td>30.6</td>\n",
       "      <td>26.4</td>\n",
       "      <td>29.0</td>\n",
       "    </tr>\n",
       "    <tr>\n",
       "      <th>1</th>\n",
       "      <td>1951</td>\n",
       "      <td>15.3</td>\n",
       "      <td>15.2</td>\n",
       "      <td>46.6</td>\n",
       "      <td>23.0</td>\n",
       "      <td>30.5</td>\n",
       "      <td>26.2</td>\n",
       "      <td>28.9</td>\n",
       "    </tr>\n",
       "    <tr>\n",
       "      <th>2</th>\n",
       "      <td>1952</td>\n",
       "      <td>15.9</td>\n",
       "      <td>15.3</td>\n",
       "      <td>45.4</td>\n",
       "      <td>23.4</td>\n",
       "      <td>30.4</td>\n",
       "      <td>26.2</td>\n",
       "      <td>28.9</td>\n",
       "    </tr>\n",
       "    <tr>\n",
       "      <th>3</th>\n",
       "      <td>1953</td>\n",
       "      <td>16.3</td>\n",
       "      <td>15.4</td>\n",
       "      <td>44.5</td>\n",
       "      <td>23.8</td>\n",
       "      <td>30.4</td>\n",
       "      <td>26.2</td>\n",
       "      <td>28.9</td>\n",
       "    </tr>\n",
       "    <tr>\n",
       "      <th>4</th>\n",
       "      <td>1954</td>\n",
       "      <td>16.5</td>\n",
       "      <td>15.3</td>\n",
       "      <td>43.6</td>\n",
       "      <td>24.6</td>\n",
       "      <td>30.3</td>\n",
       "      <td>26.2</td>\n",
       "      <td>28.8</td>\n",
       "    </tr>\n",
       "  </tbody>\n",
       "</table>\n",
       "</div>"
      ],
      "text/plain": [
       "   year  zero   one   two  more   all  first  second\n",
       "0  1950  14.6  15.2  47.2  23.1  30.6   26.4    29.0\n",
       "1  1951  15.3  15.2  46.6  23.0  30.5   26.2    28.9\n",
       "2  1952  15.9  15.3  45.4  23.4  30.4   26.2    28.9\n",
       "3  1953  16.3  15.4  44.5  23.8  30.4   26.2    28.9\n",
       "4  1954  16.5  15.3  43.6  24.6  30.3   26.2    28.8"
      ]
     },
     "execution_count": 47,
     "metadata": {},
     "output_type": "execute_result"
    }
   ],
   "source": [
    "merged.head()"
   ]
  },
  {
   "cell_type": "code",
   "execution_count": 48,
   "id": "1b160a47",
   "metadata": {},
   "outputs": [
    {
     "data": {
      "text/plain": [
       "0     1950\n",
       "1     1951\n",
       "2     1952\n",
       "3     1953\n",
       "4     1954\n",
       "      ... \n",
       "65    2015\n",
       "66    2016\n",
       "67    2017\n",
       "68    2018\n",
       "69    2019\n",
       "Name: index, Length: 70, dtype: int64"
      ]
     },
     "execution_count": 48,
     "metadata": {},
     "output_type": "execute_result"
    }
   ],
   "source": [
    "df_children['index'].astype(int)"
   ]
  },
  {
   "cell_type": "code",
   "execution_count": 49,
   "id": "b2b1f024",
   "metadata": {},
   "outputs": [],
   "source": [
    "df_children['index'] =df_children['index'].astype(int)"
   ]
  },
  {
   "cell_type": "code",
   "execution_count": 50,
   "id": "197222f8",
   "metadata": {},
   "outputs": [
    {
     "data": {
      "text/plain": [
       "index        int64\n",
       "childavg    object\n",
       "dtype: object"
      ]
     },
     "execution_count": 50,
     "metadata": {},
     "output_type": "execute_result"
    }
   ],
   "source": [
    "df_children.dtypes"
   ]
  },
  {
   "cell_type": "code",
   "execution_count": 51,
   "id": "68930fce",
   "metadata": {},
   "outputs": [],
   "source": [
    "merged = merged.merge(df_children, left_on='year', right_on='index')"
   ]
  },
  {
   "cell_type": "code",
   "execution_count": 52,
   "id": "a3ac8826",
   "metadata": {},
   "outputs": [
    {
     "data": {
      "text/html": [
       "<div>\n",
       "<style scoped>\n",
       "    .dataframe tbody tr th:only-of-type {\n",
       "        vertical-align: middle;\n",
       "    }\n",
       "\n",
       "    .dataframe tbody tr th {\n",
       "        vertical-align: top;\n",
       "    }\n",
       "\n",
       "    .dataframe thead th {\n",
       "        text-align: right;\n",
       "    }\n",
       "</style>\n",
       "<table border=\"1\" class=\"dataframe\">\n",
       "  <thead>\n",
       "    <tr style=\"text-align: right;\">\n",
       "      <th></th>\n",
       "      <th>year</th>\n",
       "      <th>zero</th>\n",
       "      <th>one</th>\n",
       "      <th>two</th>\n",
       "      <th>more</th>\n",
       "      <th>all</th>\n",
       "      <th>first</th>\n",
       "      <th>second</th>\n",
       "      <th>index</th>\n",
       "      <th>childavg</th>\n",
       "    </tr>\n",
       "  </thead>\n",
       "  <tbody>\n",
       "    <tr>\n",
       "      <th>0</th>\n",
       "      <td>1950</td>\n",
       "      <td>14.6</td>\n",
       "      <td>15.2</td>\n",
       "      <td>47.2</td>\n",
       "      <td>23.1</td>\n",
       "      <td>30.6</td>\n",
       "      <td>26.4</td>\n",
       "      <td>29.0</td>\n",
       "      <td>1950</td>\n",
       "      <td>3.097</td>\n",
       "    </tr>\n",
       "    <tr>\n",
       "      <th>1</th>\n",
       "      <td>1951</td>\n",
       "      <td>15.3</td>\n",
       "      <td>15.2</td>\n",
       "      <td>46.6</td>\n",
       "      <td>23.0</td>\n",
       "      <td>30.5</td>\n",
       "      <td>26.2</td>\n",
       "      <td>28.9</td>\n",
       "      <td>1951</td>\n",
       "      <td>3.051</td>\n",
       "    </tr>\n",
       "    <tr>\n",
       "      <th>2</th>\n",
       "      <td>1952</td>\n",
       "      <td>15.9</td>\n",
       "      <td>15.3</td>\n",
       "      <td>45.4</td>\n",
       "      <td>23.4</td>\n",
       "      <td>30.4</td>\n",
       "      <td>26.2</td>\n",
       "      <td>28.9</td>\n",
       "      <td>1952</td>\n",
       "      <td>3.087</td>\n",
       "    </tr>\n",
       "    <tr>\n",
       "      <th>3</th>\n",
       "      <td>1953</td>\n",
       "      <td>16.3</td>\n",
       "      <td>15.4</td>\n",
       "      <td>44.5</td>\n",
       "      <td>23.8</td>\n",
       "      <td>30.4</td>\n",
       "      <td>26.2</td>\n",
       "      <td>28.9</td>\n",
       "      <td>1953</td>\n",
       "      <td>3.033</td>\n",
       "    </tr>\n",
       "    <tr>\n",
       "      <th>4</th>\n",
       "      <td>1954</td>\n",
       "      <td>16.5</td>\n",
       "      <td>15.3</td>\n",
       "      <td>43.6</td>\n",
       "      <td>24.6</td>\n",
       "      <td>30.3</td>\n",
       "      <td>26.2</td>\n",
       "      <td>28.8</td>\n",
       "      <td>1954</td>\n",
       "      <td>3.029</td>\n",
       "    </tr>\n",
       "  </tbody>\n",
       "</table>\n",
       "</div>"
      ],
      "text/plain": [
       "   year  zero   one   two  more   all  first  second  index childavg\n",
       "0  1950  14.6  15.2  47.2  23.1  30.6   26.4    29.0   1950    3.097\n",
       "1  1951  15.3  15.2  46.6  23.0  30.5   26.2    28.9   1951    3.051\n",
       "2  1952  15.9  15.3  45.4  23.4  30.4   26.2    28.9   1952    3.087\n",
       "3  1953  16.3  15.4  44.5  23.8  30.4   26.2    28.9   1953    3.033\n",
       "4  1954  16.5  15.3  43.6  24.6  30.3   26.2    28.8   1954    3.029"
      ]
     },
     "execution_count": 52,
     "metadata": {},
     "output_type": "execute_result"
    }
   ],
   "source": [
    "merged.head()"
   ]
  },
  {
   "cell_type": "code",
   "execution_count": 347,
   "id": "cba1f468",
   "metadata": {},
   "outputs": [
    {
     "data": {
      "text/plain": [
       "<AxesSubplot:xlabel='first', ylabel='childavg'>"
      ]
     },
     "execution_count": 347,
     "metadata": {},
     "output_type": "execute_result"
    },
    {
     "data": {
      "image/png": "[encoded data removed]",
      "text/plain": [
       "<Figure size 432x288 with 1 Axes>"
      ]
     },
     "metadata": {
      "needs_background": "light"
     },
     "output_type": "display_data"
    }
   ],
   "source": [
    "ax = plt.gca()\n",
    "\n",
    "merged.plot(kind='scatter',x='first',y='childavg',ax=ax)"
   ]
  },
  {
   "cell_type": "code",
   "execution_count": 318,
   "id": "50b8eded",
   "metadata": {},
   "outputs": [
    {
     "data": {
      "image/png": "[encoded data removed]",
      "text/plain": [
       "<Figure size 432x288 with 1 Axes>"
      ]
     },
     "metadata": {
      "needs_background": "light"
     },
     "output_type": "display_data"
    }
   ],
   "source": [
    "#this doesn't really make sense becuase 'all' is an age, and the others are percentages\n",
    "import numpy as np\n",
    "\n",
    "ax1 = merged.plot(kind='scatter', x='first', y='one', color='r')    \n",
    "ax2 = merged.plot(kind='scatter', x='first', y='two', color='g', ax=ax1)    \n",
    "ax3 = merged.plot(kind='scatter', x='first', y='more', color='b', ax=ax1)"
   ]
  }
 ],
 "metadata": {
  "kernelspec": {
   "display_name": "Python 3",
   "language": "python",
   "name": "python3"
  },
  "language_info": {
   "codemirror_mode": {
    "name": "ipython",
    "version": 3
   },
   "file_extension": ".py",
   "mimetype": "text/x-python",
   "name": "python",
   "nbconvert_exporter": "python",
   "pygments_lexer": "ipython3",
   "version": "3.8.10"
  }
 },
 "nbformat": 4,
 "nbformat_minor": 5
}
